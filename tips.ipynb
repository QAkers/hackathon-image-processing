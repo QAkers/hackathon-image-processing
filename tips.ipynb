{
 "cells": [
  {
   "cell_type": "markdown",
   "metadata": {},
   "source": [
    "# Histogramas\n",
    "\n",
    "En esta sección vamos a conocer los histogramas, y ver como pueden servirnos de cara a la mejora de contraste de una imagen, así como una primera clasificación de objetos dentro de una imagen.\n",
    "\n",
    "Pero primero, ¿que es un histograma?, es una representación gráfica de la distribución de los distintos tonos de una imagen. Puede ayudarnos para controlar la exposición en nuestras fotos, así como para corregir los colores.\n",
    "\n",
    "### cv2.calcHist(images, channels, mask, histSize, ranges)\n",
    "* images : imagen fuente en formato uint8 o float32. Se debe definir entre corchetes, ie, “[img]”.\n",
    "* channels :Se define también entre corchetes. Es el indice del canal sobre cual calcularemos el histograma. Por ejemplo, si la entrada es una imagen en escala de grises, el valor será [0]. Para una imagen a color, puedes definir [0], [1] o [2] para calcular el histograma de azul ( R ), verde ( G ), o rojo ( R ) respectivamente.\n",
    "* mask : Imagen máscara. Si pretendes realizar el histograma de toda una imagen, debes setear el valor a ‘None’. Pero si tu quieres realizar el histograma de una región en particular, deberás definir esa región a traves de esta imagen mascara.\n",
    "* histSize : representar nuestro contador BIN. Se define entre corchetes []. La escala masiva que se le puede pasar es [256].\n",
    "* ranges : Este es nuevo rango. Normalmente está situado entre 0 y 256.\n",
    "\n",
    "En este histograma, podemos analizar como los elementos más blancos, los situados a la derecha del histograma, identificando más al pato y a la nubes. Y por otro lado tendría la parte más cercana al 0, que sería la izquierda de la gráfica, que vendría a identificar a los pixeles con un color más cercanos al negro puro.\n",
    "\n",
    "**Ejercicio:** Intenta identificar en una imagen en escala de grises (elegida a tu eleccion), los diferentes objetos que aparecen en la imagen a raiz del histograma.\n"
   ]
  },
  {
   "cell_type": "code",
   "execution_count": null,
   "metadata": {},
   "outputs": [],
   "source": [
    "#tip_01_01.py\n",
    "%matplotlib inline\n",
    "import cv2\n",
    "from matplotlib import pyplot as plt\n",
    "\n",
    "img = cv2.imread(\"dataset/examples/Holy-Grail.jpg\")\n",
    "cv2.imshow(\"dataset/examples/Holy-Grail.jpg\", img)\n",
    "cv2.waitKey(0)\n",
    "color = ('b', 'g', 'r')\n",
    "\n",
    "for i, c in enumerate(color):\n",
    "    hist = cv2.calcHist([img], [i], None, [256], [0, 256])\n",
    "    plt.plot(hist, color=c)\n",
    "    plt.xlim([0, 256])\n",
    "\n",
    "plt.show()\n",
    "\n",
    "cv2.destroyAllWindows()\n"
   ]
  },
  {
   "cell_type": "markdown",
   "metadata": {},
   "source": [
    "# Ecualización\n",
    "\n",
    "Es una transformación que pretende obtener para una imagen un histograma con una distribución uniforme. Es decir, que exista el mismo número de pixels para cada nivel de gris del histograma de una imagen monocroma.\n",
    "\n",
    "### cv2.equalizeHist(src[, dst]) \n",
    "* src: imagen a procesar, debe estar en escala de grises.\n",
    "\n",
    "Nos devuelve la imagen ecualizada a través de su histograma.\n",
    "\n",
    "**Ejercicio:** prueba a usar diferentes imágenes con diferentes condiciones de luz, ecualizarlas y comprobar los resultados obtenidos.\n"
   ]
  },
  {
   "cell_type": "code",
   "execution_count": null,
   "metadata": {},
   "outputs": [],
   "source": [
    "#tip_01_02_a.py\n",
    "%matplotlib inline\n",
    "import cv2\n",
    "from matplotlib import pyplot as plt\n",
    "\n",
    "img = cv2.imread(\"dataset/examples/life-of-brian2.jpg\", cv2.IMREAD_GRAYSCALE)\n",
    "cv2.imshow('Always look on the bright side of life', img)\n",
    "cv2.waitKey(0)\n",
    "hist = cv2.calcHist([img], [0], None, [256], [0, 256])\n",
    "plt.plot(hist, color='gray')\n",
    "\n",
    "plt.xlabel('intensidad de iluminacion')\n",
    "plt.ylabel('cantidad de pixeles')\n",
    "plt.show()\n",
    "\n",
    "cv2.destroyAllWindows()\n"
   ]
  },
  {
   "cell_type": "markdown",
   "metadata": {},
   "source": [
    "**Bibliografía**\n",
    "\n",
    "https://opencv-python-tutroals.readthedocs.io/en/latest/py_tutorials/py_imgproc/py_histograms/py_table_of_contents_histograms/py_table_of_contents_histograms.html\n"
   ]
  },
  {
   "cell_type": "markdown",
   "metadata": {},
   "source": [
    "# Ecualización adaptativa\n",
    "\n",
    "Hay veces que cuando la imagen dispone de una amplia gama de colores (escala de grises), no obtenemos grandes mejoras en el contraste. Esto es debido a que se usa un valor fijo de contraste en la ecualización.\n",
    "\n",
    "Para mejorar este apartado disponemos de funciones de ecualización de histograma adaptativo. Para ello, la imagen se divide en pequeños bloques llamados “tiles” (tileSize es 8×8 por defecto en OpenCV). Cada uno de estos bloques se ecualiza de manera independiente. Lo que supone un histograma de pequeñas zonas de la imagen, teniendo un contraste más adaptado, y no tan general como en el caso anterior, que para imágenes con muchos matices, donde tenderán a perderse la definición de los detalles."
   ]
  },
  {
   "cell_type": "code",
   "execution_count": null,
   "metadata": {},
   "outputs": [],
   "source": [
    "#tip_01_02_b.py\n",
    "%matplotlib inline\n",
    "import cv2\n",
    "from matplotlib import pyplot as plt\n",
    "\n",
    "# Ecualizacion de histogramas\n",
    "img = cv2.imread(\"dataset/examples/life-of-brian2.jpg\", cv2.IMREAD_GRAYSCALE)\n",
    "img = cv2.equalizeHist(img)\n",
    "\n",
    "cv2.imshow('Histogramas', img)\n",
    "cv2.waitKey(0)\n",
    "hist = cv2.calcHist([img], [0], None, [256], [0, 256])\n",
    "plt.plot(hist, color='gray')\n",
    "\n",
    "plt.xlabel('intensidad de iluminacion')\n",
    "plt.ylabel('cantidad de pixeles')\n",
    "plt.show()\n",
    "\n",
    "cv2.destroyAllWindows()"
   ]
  },
  {
   "cell_type": "code",
   "execution_count": null,
   "metadata": {},
   "outputs": [],
   "source": [
    "#tip_01_02_c.py\n",
    "%matplotlib inline\n",
    "import cv2\n",
    "from matplotlib import pyplot as plt\n",
    "\n",
    "# Ecualizacion de histograma adaptativo\n",
    "\n",
    "img = cv2.imread(\"dataset/examples/life-of-brian2.jpg\", cv2.IMREAD_GRAYSCALE)\n",
    "cv2.imshow('Always look on the bright side of life', img)\n",
    "cv2.waitKey(0)\n",
    "\n",
    "clahe = cv2.createCLAHE(clipLimit=2.0, tileGridSize=(8, 8))\n",
    "img = clahe.apply(img)\n",
    "\n",
    "hist = cv2.calcHist([img], [0], None, [256], [0, 256])\n",
    "plt.plot(hist, color='gray')\n",
    "cv2.imshow('Always look on the bright side of life', img)\n",
    "cv2.waitKey(0)\n",
    "\n",
    "plt.xlabel('intensidad de iluminacion')\n",
    "plt.ylabel('cantidad de pixeles')\n",
    "plt.show()\n",
    "\n",
    "cv2.destroyAllWindows()\n"
   ]
  },
  {
   "cell_type": "code",
   "execution_count": null,
   "metadata": {},
   "outputs": [],
   "source": [
    "#tip_01_02_d.py\n",
    "import cv2\n",
    "\n",
    "# Ecualizacion de histograma adaptativo\n",
    "\n",
    "img = cv2.imread(\"dataset/examples/life-of-brian2.jpg\", 1)\n",
    "cv2.imshow(\"Always look on the bright side of life\", img)\n",
    "cv2.waitKey(0)\n",
    "# -----Converting image to LAB Color model-----------------------------------\n",
    "lab = cv2.cvtColor(img, cv2.COLOR_BGR2LAB)\n",
    "cv2.imshow(\"lab\", lab)\n",
    "cv2.waitKey(0)\n",
    "# -----Splitting the LAB image to different channels-------------------------\n",
    "l, a, b = cv2.split(lab)\n",
    "cv2.imshow('l_channel', l)\n",
    "cv2.waitKey(0)\n",
    "cv2.imshow('a_channel', a)\n",
    "cv2.waitKey(0)\n",
    "cv2.imshow('b_channel', b)\n",
    "cv2.waitKey(0)\n",
    "\n",
    "# -----Applying CLAHE to L-channel-------------------------------------------\n",
    "clahe = cv2.createCLAHE(clipLimit=3.0, tileGridSize=(8, 8))\n",
    "cl = clahe.apply(l)\n",
    "cv2.imshow('CLAHE output', cl)\n",
    "cv2.waitKey(0)\n",
    "# -----Merge the CLAHE enhanced L-channel with the a and b channel-----------\n",
    "limg = cv2.merge((cl, a, b))\n",
    "cv2.imshow('limg', limg)\n",
    "cv2.waitKey(0)\n",
    "# -----Converting image from LAB Color model to RGB model--------------------\n",
    "final = cv2.cvtColor(limg, cv2.COLOR_LAB2BGR)\n",
    "cv2.imshow('final', final)\n",
    "cv2.waitKey(0)\n",
    "\n",
    "cv2.destroyAllWindows()"
   ]
  },
  {
   "cell_type": "markdown",
   "metadata": {},
   "source": [
    "**Bibliografía**\n",
    "\n",
    "https://opencv-python-tutroals.readthedocs.io/en/latest/py_tutorials/py_imgproc/py_histograms/py_table_of_contents_histograms/py_table_of_contents_histograms.html"
   ]
  },
  {
   "cell_type": "markdown",
   "metadata": {},
   "source": [
    "# Operadores morfológicos\n",
    "\n",
    "La Morfología matemática ha demostrado ser una herramienta importante en el análisis de imágenes cuando la topología y la estructura geométrica de los objetos presentes en ellas son los parámetros claves para su caracterización. \n",
    "\n",
    "Es una técnica de procesamiento y análisis de imágenes relativamente joven que ha demostrado gran capacidad para solventar una amplia gama de problemas sobre imágenes binarias (en blanco y negro) o numéricas (en escala de grises o a color). \n",
    "\n",
    "* Las operaciones morfológicas simplifican imágenes y conservan las principales características de forma de los objetos. \n",
    "* Un sistema de operadores de este tipo y su composición, permite que las formas subyacentes sean identificadas y reconstruidas de forma Morfología óptima a partir de sus formas distorsionadas y ruidosas. \n",
    "* La morfología matemática se puede usar, entre otros, con los siguientes objetivos: \n",
    "    * Pre-procesamiento de imágenes (supresión de ruidos, simplificación de formas). \n",
    "    * Destacar la estructura de los objetos (extraer el esqueleto, detección de objetos, envolvente convexa, ampliación, reducción,...)\n",
    "\n",
    "Evidentemente esta técnica no puede solventar por sí sola todos los posibles problemas que se puede presentar en una aplicación de imágenes digitales, pero en los casos donde es útil, suele ser la opción más eficiente y de más fácil implementación.\n",
    "\n",
    "Existen dos operadores básicos Erosión y Dilatación. Y de su combinacio las variantes como apertura, cierre.\n"
   ]
  },
  {
   "cell_type": "markdown",
   "metadata": {},
   "source": [
    "## Erosión\n",
    "El kernel se desliza a través de la imagen (como en la convolución 2D). Un píxel en la imagen original (ya sea 1 o 0) se considerará 1 solo si todos los píxeles del kernel son 1, de lo contrario se erosiona (se convierte en cero)."
   ]
  },
  {
   "cell_type": "code",
   "execution_count": 2,
   "metadata": {},
   "outputs": [],
   "source": [
    "# tip_01_04_a.py\n",
    "import cv2\n",
    "import numpy as np\n",
    "\n",
    "img = cv2.imread(\"dataset/examples/erosion-dilatation.png\", 0)\n",
    "\n",
    "cv2.imshow('Paradigma', img)\n",
    "cv2.waitKey(0)\n",
    "\n",
    "kernel = np.ones((5, 5), np.uint8)\n",
    "erosion = cv2.erode(img, kernel, iterations=1)\n",
    "\n",
    "cv2.imshow('Paradigma', erosion)\n",
    "cv2.waitKey(0)\n",
    "cv2.destroyAllWindows()"
   ]
  },
  {
   "cell_type": "markdown",
   "metadata": {},
   "source": [
    "## Dilatación\n",
    "Es justo lo opuesto a la erosión. Aquí, el píxel resultado es '1' si al menos un píxel del kernel es '1'. Por lo tanto, aumenta la región blanca en la imagen o aumenta el tamaño del objeto en primer plano."
   ]
  },
  {
   "cell_type": "code",
   "execution_count": null,
   "metadata": {},
   "outputs": [],
   "source": [
    "# tip_01_04_b.py\n",
    "import cv2\n",
    "import numpy as np\n",
    "\n",
    "img = cv2.imread(\"dataset/examples/erosion-dilatation.png\", 0)\n",
    "\n",
    "cv2.imshow('Paradigma', img)\n",
    "cv2.waitKey(0)\n",
    "\n",
    "kernel = np.ones((5, 5), np.uint8)\n",
    "dilation = cv2.dilate(img, kernel, iterations=1)\n",
    "\n",
    "cv2.imshow('Paradigma', dilation)\n",
    "cv2.waitKey(0)\n",
    "cv2.destroyAllWindows()"
   ]
  },
  {
   "cell_type": "markdown",
   "metadata": {},
   "source": [
    "## Apertura\n",
    "Apertura, es el proceso de aplicar una erosión, seguido de una dilatación. Es muy útil para eliminar el ruido, o pequeños elementos que ensucian una imagen.\n",
    "\n",
    "Para ello usamos la función: `cv2.morphologyEx()`"
   ]
  },
  {
   "cell_type": "code",
   "execution_count": 1,
   "metadata": {},
   "outputs": [],
   "source": [
    "# tip_01_04_c.py\n",
    "import cv2\n",
    "import numpy as np\n",
    "\n",
    "img = cv2.imread(\"dataset/examples/apertura.png\", 0)\n",
    "\n",
    "cv2.imshow('Paradigma', img)\n",
    "cv2.waitKey(0)\n",
    "\n",
    "kernel = np.ones((5, 5), np.uint8)\n",
    "opening = cv2.morphologyEx(img, cv2.MORPH_OPEN, kernel)\n",
    "\n",
    "cv2.imshow('Paradigma', opening)\n",
    "cv2.waitKey(0)\n",
    "cv2.destroyAllWindows()"
   ]
  },
  {
   "cell_type": "markdown",
   "metadata": {},
   "source": [
    "## Clausura\n",
    "Clausura es el proceso contrario a Apertura, seria un operación de dilatación seguida de una erosión. Es útil para cerrar pequeños agujeros dentro de los objetos de primer plano, o pequeños puntos negros en el objeto."
   ]
  },
  {
   "cell_type": "code",
   "execution_count": null,
   "metadata": {},
   "outputs": [],
   "source": [
    "# tip_01_04_d.py\n",
    "import cv2\n",
    "import numpy as np\n",
    "\n",
    "img = cv2.imread(\"dataset/examples/clausura.png\", 0)\n",
    "\n",
    "cv2.imshow('Paradigma', img)\n",
    "cv2.waitKey(0)\n",
    "\n",
    "kernel = np.ones((5, 5), np.uint8)\n",
    "closing = cv2.morphologyEx(img, cv2.MORPH_CLOSE, kernel)\n",
    "\n",
    "cv2.imshow('Paradigma', closing)\n",
    "cv2.waitKey(0)\n",
    "cv2.destroyAllWindows()"
   ]
  },
  {
   "cell_type": "markdown",
   "metadata": {},
   "source": [
    "Continuara...."
   ]
  }
 ],
 "metadata": {
  "kernelspec": {
   "display_name": "Python 2",
   "language": "python",
   "name": "python2"
  },
  "language_info": {
   "codemirror_mode": {
    "name": "ipython",
    "version": 2
   },
   "file_extension": ".py",
   "mimetype": "text/x-python",
   "name": "python",
   "nbconvert_exporter": "python",
   "pygments_lexer": "ipython2",
   "version": "2.7.12"
  }
 },
 "nbformat": 4,
 "nbformat_minor": 2
}
